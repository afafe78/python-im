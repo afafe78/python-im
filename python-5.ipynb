{
 "cells": [
  {
   "cell_type": "markdown",
   "metadata": {
    "slideshow": {
     "slide_type": "slide"
    }
   },
   "source": [
    "# Langages de script - Python\n",
    "## Cours 5 - exceptions, logs, modules timeit et argparse\n",
    "### M2 Ingénierie Multilingue - INaLCO\n",
    "#### Clément Plancq - clement.plancq@ens.fr\n"
   ]
  },
  {
   "cell_type": "markdown",
   "metadata": {
    "slideshow": {
     "slide_type": "slide"
    }
   },
   "source": [
    "# Exceptions\n",
    "\n",
    "* Les exceptions sont utilisées pour signaler que quelque chose d'anormal se produit, une erreur généralement\n",
    "\n",
    "* Les messages d'erreur générés par les exceptions donnent des détails précieux sur les erreurs (type, emplacement, ...)\n",
    "\n",
    "* Si elles sont levées par Python vous pouvez capturer les exceptions (`try`, `except`) et modifier le comportement de votre script en fonction\n",
    "\n",
    "* Vous pouvez également lever des exceptions avec `raise`\n"
   ]
  },
  {
   "cell_type": "code",
   "execution_count": null,
   "metadata": {
    "slideshow": {
     "slide_type": "-"
    }
   },
   "outputs": [],
   "source": [
    "chifoumi = (\"pierre\", \"feuille\", \"ciseaux\")\n",
    "user_val = input(\"pierre, feuille, ciseaux ? \").lower()\n",
    "if user_val not in chifoumi:\n",
    "    raise ValueError(\"pierre, feuille ou ciseaux et puis c'est tout\")"
   ]
  },
  {
   "cell_type": "markdown",
   "metadata": {
    "slideshow": {
     "slide_type": "slide"
    }
   },
   "source": [
    "# Capturer les exceptions\n",
    "\n",
    "* Trop facile\n"
   ]
  },
  {
   "cell_type": "code",
   "execution_count": null,
   "metadata": {
    "slideshow": {
     "slide_type": "-"
    }
   },
   "outputs": [],
   "source": [
    "val = [1, 2 ,3]\n",
    "try:\n",
    "  print(val[1984])\n",
    "except IndexError:\n",
    "  print(\"Erreur d'indice. Mais le roman est bien\")"
   ]
  },
  {
   "cell_type": "markdown",
   "metadata": {
    "slideshow": {
     "slide_type": "subslide"
    }
   },
   "source": [
    "* À condition de sélectionner la bonne classe d'exception\n"
   ]
  },
  {
   "cell_type": "code",
   "execution_count": null,
   "metadata": {
    "slideshow": {
     "slide_type": "-"
    }
   },
   "outputs": [],
   "source": [
    "dico = {'michel': 'H', 'michèle': 'F'}\n",
    "try:\n",
    "  print(dico[1984])\n",
    "except IndexError:\n",
    "  print(\"Erreur d'indice. Mais le roman est bien\")"
   ]
  },
  {
   "cell_type": "markdown",
   "metadata": {
    "slideshow": {
     "slide_type": "fragment"
    }
   },
   "source": [
    "* Les exceptions Python sont organisées en hiérarchie (voir [ici](https://docs.python.org/3/library/exceptions.html#bltin-exceptions)), on finit par s'y retrouver\n"
   ]
  },
  {
   "cell_type": "markdown",
   "metadata": {
    "slideshow": {
     "slide_type": "slide"
    }
   },
   "source": [
    "# Capturer les exceptions\n",
    "\n",
    "* Utiliser la classe mère `Exception` réduit la précision de l'information sur l'erreur produite\n"
   ]
  },
  {
   "cell_type": "code",
   "execution_count": null,
   "metadata": {
    "slideshow": {
     "slide_type": "-"
    }
   },
   "outputs": [],
   "source": [
    "l = []\n",
    "try:\n",
    "    print(dico[l[5]])\n",
    "except Exception:\n",
    "  print(\"Soit la clé n'existe pas, soit l'indice n'existe pas\")"
   ]
  },
  {
   "cell_type": "markdown",
   "metadata": {
    "slideshow": {
     "slide_type": "subslide"
    }
   },
   "source": [
    "* Il est possible de capturer plusieurs types d'exceptions différentes\n"
   ]
  },
  {
   "cell_type": "code",
   "execution_count": null,
   "metadata": {
    "slideshow": {
     "slide_type": "-"
    }
   },
   "outputs": [],
   "source": [
    "l = [1,2,3,4,5]\n",
    "try:\n",
    "  print(dico[l[5]])\n",
    "except IndexError:\n",
    "  print(\"L'indice n'existe pas\")\n",
    "except KeyError:\n",
    "  print(\"La clé n'existe pas\")"
   ]
  },
  {
   "cell_type": "markdown",
   "metadata": {
    "slideshow": {
     "slide_type": "slide"
    }
   },
   "source": [
    "# Pour finir sur les exceptions\n",
    "\n",
    "* Le bloc `else` sera exécuté si aucune exception n'est levée\n",
    "\n",
    "* Le bloc `finally` sera exécuté dans tous les cas de figure\n"
   ]
  },
  {
   "cell_type": "code",
   "execution_count": null,
   "metadata": {
    "slideshow": {
     "slide_type": "-"
    }
   },
   "outputs": [],
   "source": [
    "l = [1,2,3,4,5,0]\n",
    "try:\n",
    "  print(dico[l[5]])\n",
    "except IndexError:\n",
    "  print(\"L'indice n'existe pas\")\n",
    "except KeyError:\n",
    "  print(\"La clé n'existe pas\")\n",
    "else:\n",
    "  print(\"OK tout roule\")\n",
    "finally:\n",
    "  print(\"C'est fini, vous pouvez rentrer\")"
   ]
  },
  {
   "cell_type": "markdown",
   "metadata": {
    "slideshow": {
     "slide_type": "slide"
    }
   },
   "source": [
    "# Logs\n",
    "\n",
    "On peut toujours générer des logs manuellement à coups de `if` et de `print` mais ça devient vite fastidieux\n",
    "\n",
    "Python embarque un module qui est fait pour ça : [`logging`](https://docs.python.org/3/howto/logging.html)\n"
   ]
  },
  {
   "cell_type": "code",
   "execution_count": null,
   "metadata": {
    "slideshow": {
     "slide_type": "-"
    }
   },
   "outputs": [],
   "source": [
    "import logging\n",
    "\n",
    "logging.basicConfig(filename='monscript.log',level=logging.INFO)\n",
    "logging.debug('Celui-là ne sera pas dans les logs')\n",
    "logging.info('Celui-là oui')"
   ]
  },
  {
   "cell_type": "markdown",
   "metadata": {
    "slideshow": {
     "slide_type": "fragment"
    }
   },
   "source": [
    "On peut formatter les log pour une sortie différente, souvent plus adaptée :"
   ]
  },
  {
   "cell_type": "code",
   "execution_count": null,
   "metadata": {
    "slideshow": {
     "slide_type": "-"
    }
   },
   "outputs": [],
   "source": [
    "import logging\n",
    "\n",
    "logging.basicConfig(filename='monscript.log', level=logging.INFO, format=\"%(levelname)s\\t%(asctime)s\\t%(message)s\")\n",
    "logging.debug('Celui-là ne sera pas dans les logs')\n",
    "logging.info('Celui-là oui')"
   ]
  },
  {
   "cell_type": "markdown",
   "metadata": {
    "slideshow": {
     "slide_type": "fragment"
    }
   },
   "source": [
    "Voir [ici](https://docs.python.org/3/library/logging.html#logging.basicConfig) pour configurer `logging.basicConfig` et [là](https://docs.python.org/3/library/logging.html#logrecord-attributes) pour voir ce que l'on peut mettre pour l'argument `format`"
   ]
  },
  {
   "cell_type": "markdown",
   "metadata": {
    "slideshow": {
     "slide_type": "slide"
    }
   },
   "source": [
    "# Module timeit\n",
    "\n",
    "* `timeit` permet de mesurer le temps d'éxécution de portions de code ou de fonctions\n",
    "\n",
    "* La mesure du temps d'éxécution se fait en microseconde (*usec*), en milliseconde (*msec*) ou en secondes (*sec*)\n",
    "\n",
    "* Ce module s'utilise en ligne de commande, dans une console (i)python ou via des appels dans un script\n",
    "\n",
    "* Lors de l'appel en ligne de commande, le module détermine automatiquement le nombre de répétitions à réaliser\n",
    "\n",
    "```bash\n",
    "$ python3 -m timeit \"[x**2 for x in range(100)]\"\n",
    "10000 loops, best of 3: 38.7 usec per loop\n",
    "```\n"
   ]
  },
  {
   "cell_type": "markdown",
   "metadata": {
    "slideshow": {
     "slide_type": "slide"
    }
   },
   "source": [
    "# Module timeit\n",
    "\n",
    "* La fonction la plus souvent utilisée est `timeit.timeit`\n",
    "\n",
    "* Ce n'est pas la seule, voir la [doc](https://docs.python.org/3.6/library/timeit.html)\n"
   ]
  },
  {
   "cell_type": "code",
   "execution_count": null,
   "metadata": {
    "slideshow": {
     "slide_type": "-"
    }
   },
   "outputs": [],
   "source": [
    "import timeit\n",
    "\n",
    "def main():\n",
    "    time_char_in_str = timeit.timeit('str=\"le chat\"; char=\"a\"; char in str', number=10000)\n",
    "    print(\"Time char in str : {}\".format(time_char_in_str))\n",
    "\n",
    "    time_find = timeit.timeit(\"\"\"\\\n",
    "str = \"le chat\"\n",
    "char=\"a\"\n",
    "char.find(str)\n",
    "    \"\"\", number=10000)\n",
    "    print(\"Time find : {}\".format(time_find))\n",
    "\n",
    "main()"
   ]
  },
  {
   "cell_type": "markdown",
   "metadata": {
    "slideshow": {
     "slide_type": "slide"
    }
   },
   "source": [
    "# Module timeit\n",
    "\n",
    "* Vous pouvez donner accès aux fonctions individuellement via le paramètre 'setup'\n",
    "\n",
    "* Le plus pratique est d'utiliser le paramètre `global=globals()` pour lui passer l'espace de nom du script\n"
   ]
  },
  {
   "cell_type": "code",
   "execution_count": null,
   "metadata": {
    "slideshow": {
     "slide_type": "-"
    }
   },
   "outputs": [],
   "source": [
    "import timeit\n",
    "\n",
    "def f(n):\n",
    "    res = list()\n",
    "    for x in range(n):\n",
    "        res.append(x**2)\n",
    "    return res\n",
    "\n",
    "def g(n):\n",
    "    return [x**2 for x in range(n)]\n",
    "\n",
    "def main():\n",
    "    try:\n",
    "        print(timeit.timeit('f(10)', number=100000))\n",
    "    except NameError:\n",
    "        print(\"f n'est pas trouvée!\") # on peut retirer le \"try/catch\" pour s'en convaincre\n",
    "    print(timeit.timeit('f(10)', number=100000, setup=\"from __main__ import f\"))\n",
    "    print(timeit.timeit('g(10)', number=100000, globals=globals()))\n",
    "\n",
    "main()"
   ]
  },
  {
   "cell_type": "markdown",
   "metadata": {
    "slideshow": {
     "slide_type": "subslide"
    }
   },
   "source": [
    "* Dans une console ipython vous  pouvez utiliser les mots clés magiques `%timeit` et `%%timeit`\n"
   ]
  },
  {
   "cell_type": "code",
   "execution_count": null,
   "metadata": {
    "slideshow": {
     "slide_type": "-"
    }
   },
   "outputs": [],
   "source": [
    "def f(n):\n",
    "    res = list()\n",
    "    for x in range(n):\n",
    "        res.append(x**2)\n",
    "    return res"
   ]
  },
  {
   "cell_type": "code",
   "execution_count": null,
   "metadata": {
    "slideshow": {
     "slide_type": "-"
    }
   },
   "outputs": [],
   "source": [
    "%timeit -n 100000 \"f(10)\""
   ]
  },
  {
   "cell_type": "code",
   "execution_count": null,
   "metadata": {},
   "outputs": [],
   "source": [
    "%%timeit\n",
    "import random\n",
    "l = [random.random() for xxx in range(100000)]\n",
    "max(l)"
   ]
  },
  {
   "cell_type": "code",
   "execution_count": null,
   "metadata": {},
   "outputs": [],
   "source": [
    "%%timeit import random; l = [random.random() for xxx in range(100000)]\n",
    "max(l)"
   ]
  },
  {
   "cell_type": "markdown",
   "metadata": {
    "slideshow": {
     "slide_type": "slide"
    }
   },
   "source": [
    "# Module argparse\n",
    "\n",
    "* [`sys.argv`](https://docs.python.org/3.6/library/sys.html#sys.argv) permet de récupérer la liste des arguments passés à un script Python\n",
    "\n",
    "* Le module [`argparse`](https://docs.python.org/3.6/library/argparse.html) est un parseur qui vous permettra de construire des interfaces en ligne de commande plus riches et plus simples à utiliser.  \n",
    "Commencer avec le [tutorial](https://docs.python.org/3.6/howto/argparse.html#id1)\n"
   ]
  },
  {
   "cell_type": "code",
   "execution_count": null,
   "metadata": {
    "slideshow": {
     "slide_type": "-"
    }
   },
   "outputs": [],
   "source": [
    "import argparse\n",
    "\n",
    "parser = argparse.ArgumentParser(description=\"A useless script\")\n",
    "parser.add_argument(\"-v\", \"--verbose\", help=\"verbose mode\", action=\"store_true\")\n",
    "parser.add_argument(\"file\", help=\"input file\")\n",
    "args = vars(parser.parse_args())\n",
    "\n",
    "print(args['file'])"
   ]
  },
  {
   "cell_type": "code",
   "execution_count": null,
   "metadata": {
    "slideshow": {
     "slide_type": "subslide"
    }
   },
   "outputs": [],
   "source": [
    "bash\n",
    "> python3 args.py\n",
    "usage: args.py [-h] [-v] file\n",
    "args.py: error: the following arguments are required: file"
   ]
  },
  {
   "cell_type": "markdown",
   "metadata": {
    "slideshow": {
     "slide_type": "fragment"
    }
   },
   "source": [
    "On peut également utiliser `--help` ou `-h` pour afficher l'aide"
   ]
  },
  {
   "cell_type": "code",
   "execution_count": null,
   "metadata": {},
   "outputs": [],
   "source": [
    "bash\n",
    "> python3 args.py -h\n",
    "usage: args.py [-h] [-v] file\n",
    "\n",
    "A useless script\n",
    "\n",
    "positional arguments:\n",
    "  file           input file\n",
    "\n",
    "optional arguments:\n",
    "  -h, --help     show this help message and exit\n",
    "  -v, --verbose  verbose mode"
   ]
  },
  {
   "cell_type": "markdown",
   "metadata": {
    "slideshow": {
     "slide_type": "slide"
    }
   },
   "source": [
    "# Pas de *main* en Python ?\n",
    "\n",
    "Vous trouverez fréquemment le test suivant dans les scripts Python :\n"
   ]
  },
  {
   "cell_type": "code",
   "execution_count": null,
   "metadata": {
    "slideshow": {
     "slide_type": "-"
    }
   },
   "outputs": [],
   "source": [
    "if __name__ == '__main__':\n",
    "    instruction1\n",
    "    instruction2"
   ]
  },
  {
   "cell_type": "markdown",
   "metadata": {
    "slideshow": {
     "slide_type": "-"
    }
   },
   "source": [
    "ou\n"
   ]
  },
  {
   "cell_type": "code",
   "execution_count": null,
   "metadata": {
    "slideshow": {
     "slide_type": "-"
    }
   },
   "outputs": [],
   "source": [
    "def main():\n",
    "    instruction\n",
    "\n",
    "if __name__ == '__main__':\n",
    "    main()"
   ]
  },
  {
   "cell_type": "markdown",
   "metadata": {
    "slideshow": {
     "slide_type": "subslide"
    }
   },
   "source": [
    "Cela évite que le code sous le test ne soit exécuté lors de l'import du script :      \n",
    "`__name__` est une variable créée automatiquement qui vaut `__main__` si le script a été appelé en ligne de commande, le nom du script s'il a été importé."
   ]
  },
  {
   "cell_type": "markdown",
   "metadata": {
    "slideshow": {
     "slide_type": "fragment"
    }
   },
   "source": [
    "Accessoirement cela permet d'organiser son code et de le rendre plus lisible    \n",
    "Désormais je vous ~~recommande vivement~~ demande de l'inclure dans tous vos scripts"
   ]
  },
  {
   "cell_type": "markdown",
   "metadata": {
    "slideshow": {
     "slide_type": "slide"
    }
   },
   "source": [
    "# Exos\n",
    "\n",
    "3. Résoudre [Scrabble](https://www.codingame.com/training/medium/scrabble)\n"
   ]
  }
 ],
 "metadata": {
  "celltoolbar": "Slideshow",
  "kernelspec": {
   "display_name": "Python 3",
   "language": "python",
   "name": "python3"
  },
  "language_info": {
   "codemirror_mode": {
    "name": "ipython",
    "version": 3
   },
   "file_extension": ".py",
   "mimetype": "text/x-python",
   "name": "python",
   "nbconvert_exporter": "python",
   "pygments_lexer": "ipython3",
   "version": "3.7.0"
  },
  "livereveal": {
   "autolaunch": true,
   "scroll": true,
   "transition": "none"
  }
 },
 "nbformat": 4,
 "nbformat_minor": 2
}
