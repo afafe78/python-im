{
 "cells": [
  {
   "cell_type": "markdown",
   "metadata": {},
   "source": [
    "# Examen 15 novembre 2017\n",
    "\n",
    "L'examen portait sur les données du fichier `csv` provenant de https://www.data.gouv.fr/fr/datasets/fichier-des-equides/"
   ]
  },
  {
   "cell_type": "markdown",
   "metadata": {},
   "source": [
    "## Extraction des données\n",
    "\n",
    "La difficulté principale provenait de la taille du fichier (et du fait que l'encodage ne soit pas précisé, qu'il ne s'agisse pas d'UTF-8 et que votre enseignant ne s'en soit même pas aperçu :shame:).\n",
    "<img src=\"http://d3lp4xedbqa8a5.cloudfront.net/s3/digital-cougar-assets/Cosmo/2016/04/19/76052/cersei.jpg\" width=\"200\" height=\"40\">\n",
    "\n",
    "\n",
    "Surtout il faut éviter de lire plusieurs fois le fichier mais ça vous le savez déjà, n'est-ce pas ?\n",
    "\n",
    "Pour être moins encombré pendant vos tests vous pouvez travailler dans un premier temps sur un échantillon de données. `head -n 3000 fichier.csv > fichier_short.csv` dans la console et voilà.\n",
    "\n",
    "La grande question c'est quelles seront mes structures de données ? Ici l'objet sera un peu overkill mais rien ne vous empêche d'en utiliser. Vous pouvez choisir de conserver toutes les propriétés (les colonnes) des équidés ou de vous restreindre à celles dont vous avez besoin pour répondre aux questions.\n",
    "Ce sera l'option choisie ici."
   ]
  },
  {
   "cell_type": "code",
   "execution_count": 1,
   "metadata": {},
   "outputs": [
    {
     "name": "stdout",
     "output_type": "stream",
     "text": [
      "ln: impossible de créer le lien symbolique 'Equides_2016.csv': Le fichier existe\r\n"
     ]
    }
   ],
   "source": [
    "!ln -s mon_fichier_equides.csv Equides_2016.csv"
   ]
  },
  {
   "cell_type": "code",
   "execution_count": null,
   "metadata": {},
   "outputs": [],
   "source": [
    "from collections import defaultdict\n",
    "from collections import Counter\n",
    "import re\n",
    "\n",
    "file_name = \"Equides_2016.csv\"\n",
    "poneys = [] # liste de tuples (name, sex)\n",
    "autres = defaultdict(int) # name:freq\n",
    "\n",
    "with open(file_name, \"r\", encoding=\"iso-8859-1\") as f:\n",
    "    for line in f:\n",
    "        cols = line.split(\",\")\n",
    "        if len(cols) != 8:\n",
    "            continue\n",
    "        # uniquement les poneys\n",
    "        if \"PONEY\" in cols[0]:\n",
    "            #on conserve le nom et le sexe de chaque poney dans un tuple\n",
    "            poneys.append((cols[5], cols[1])) \n",
    "        # uniquement les pas poneys nés en G-B\n",
    "        elif \"GRANDE-BRETAGNE\" in cols[4]:\n",
    "            autres[cols[0]] += 1\n"
   ]
  },
  {
   "cell_type": "markdown",
   "metadata": {},
   "source": [
    "Utiliser des fonctions n'était pas obligatoire mais commme plusieurs questions demandent de renvoyer les n plus fréquents, l'utilisation d'une fonction est tout indiquée.  \n",
    "\n",
    "On peut faire le comptage et le filtre sur les n plus fréquents avec un dictionnaire (ou defaultdict) ou un objet Counter."
   ]
  },
  {
   "cell_type": "code",
   "execution_count": null,
   "metadata": {},
   "outputs": [],
   "source": [
    "def get_most_freq(data, n):\n",
    "    \"\"\"\n",
    "    Finds the n most frequent items in data\n",
    "    Args:\n",
    "        data: list of tuples (name, sex)\n",
    "        n: n most common items needed\n",
    "    \n",
    "    Returns:\n",
    "        A list of tuples (name, freq)\n",
    "    \"\"\"\n",
    "    data_dict = defaultdict(int)\n",
    "    for name, sex in data:\n",
    "        data_dict[name] += 1\n",
    "    most_freq = sorted(data_dict, key=data_dict.get, reverse=True)\n",
    "    return [(name, data_dict[name]) for name in most_freq[:n]]"
   ]
  },
  {
   "cell_type": "code",
   "execution_count": null,
   "metadata": {},
   "outputs": [],
   "source": [
    "def get_most_freq_c(data, n):\n",
    "    \"\"\"\n",
    "    Finds the n most frequent items in data (Counter version)\n",
    "    Args:\n",
    "        data: list of tuples (name, sex)\n",
    "        n: n most common items needed\n",
    "    \n",
    "    Returns:\n",
    "        A list of tuples (name, freq)\n",
    "    \"\"\"\n",
    "    cnt = Counter([name for name,sex in data])\n",
    "    #for name, sex in data:\n",
    "    #    cnt[name] += 1\n",
    "    return cnt.most_common(n)\n"
   ]
  },
  {
   "cell_type": "markdown",
   "metadata": {},
   "source": [
    "Avec %timeit (commande magique d'ipython pour invoquer le module timeit), on peut tester sans efforts le temps de traitement de chaque fonction"
   ]
  },
  {
   "cell_type": "code",
   "execution_count": null,
   "metadata": {},
   "outputs": [],
   "source": [
    "%timeit res = get_most_freq(poneys, 30)"
   ]
  },
  {
   "cell_type": "code",
   "execution_count": null,
   "metadata": {},
   "outputs": [],
   "source": [
    "%timeit res = get_most_freq_c(poneys, 30)"
   ]
  },
  {
   "cell_type": "markdown",
   "metadata": {},
   "source": [
    "### 1. Les trente noms de poneys les plus fréquents :"
   ]
  },
  {
   "cell_type": "code",
   "execution_count": null,
   "metadata": {},
   "outputs": [],
   "source": [
    "for poney in get_most_freq_c(poneys, 30):\n",
    "    print(\"{} {}\".format(poney[0], poney[1]))\n"
   ]
  },
  {
   "cell_type": "markdown",
   "metadata": {},
   "source": [
    "### 2. Noms se terminant par 'a', 'ah' ou 'at'"
   ]
  },
  {
   "cell_type": "code",
   "execution_count": null,
   "metadata": {},
   "outputs": [],
   "source": [
    "pat = re.compile(\"A[HT]?$\")\n",
    "poneys_a = [poney for poney in poneys if pat.search(poney[0])]\n",
    "for poney in get_most_freq_c(poneys_a, 10):\n",
    "    print(\"{} {}\".format(poney[0], poney[1]))"
   ]
  },
  {
   "cell_type": "markdown",
   "metadata": {},
   "source": [
    "### 3. Noms se terminant par une consonne suivie de \"ine\""
   ]
  },
  {
   "cell_type": "code",
   "execution_count": null,
   "metadata": {},
   "outputs": [],
   "source": [
    "pat = re.compile(\"[^AEIOUY]INE$\")\n",
    "poneys_ine = [poney for poney in poneys if pat.search(poney[0])]\n",
    "for poney in get_most_freq_c(poneys_ine, 10):\n",
    "    print(\"{} {}\".format(poney[0], poney[1]))"
   ]
  },
  {
   "cell_type": "markdown",
   "metadata": {},
   "source": [
    "### 4. Nom le plus fréquent pour un mâle"
   ]
  },
  {
   "cell_type": "code",
   "execution_count": null,
   "metadata": {},
   "outputs": [],
   "source": [
    "poneys_m = [poney for poney in poneys if poney[1] == \"M\"]\n",
    "for poney in get_most_freq_c(poneys_m, 1):\n",
    "    print(\"{} {}\".format(poney[0], poney[1]))\n"
   ]
  },
  {
   "cell_type": "markdown",
   "metadata": {},
   "source": [
    "### 4bis. Nom le plus fréquent pour une femelle"
   ]
  },
  {
   "cell_type": "code",
   "execution_count": null,
   "metadata": {},
   "outputs": [],
   "source": [
    "poneys_m = [poney for poney in poneys if poney[1] == \"F\"]\n",
    "for poney in get_most_freq_c(poneys_m, 1):\n",
    "    print(\"{} {}\".format(poney[0], poney[1]))"
   ]
  },
  {
   "cell_type": "markdown",
   "metadata": {},
   "source": [
    "## Les autres"
   ]
  },
  {
   "cell_type": "markdown",
   "metadata": {},
   "source": [
    "### 5. Trouver les chevaux (pas les poneys) nés en Grande-Bretagne et les compter par race. Afficher le décompte par ordre décroissant"
   ]
  },
  {
   "cell_type": "code",
   "execution_count": null,
   "metadata": {},
   "outputs": [],
   "source": [
    "# les chevaux nés en G-B par race en ordre décroissant\n",
    "most_freq = sorted(autres, key=autres.get, reverse=True)\n",
    "for autre in most_freq[:10]:\n",
    "    print(\"{} : {}\".format(autre, autres[autre]))"
   ]
  },
  {
   "cell_type": "code",
   "execution_count": null,
   "metadata": {},
   "outputs": [],
   "source": []
  }
 ],
 "metadata": {
  "kernelspec": {
   "display_name": "Python 3",
   "language": "python",
   "name": "python3"
  },
  "language_info": {
   "codemirror_mode": {
    "name": "ipython",
    "version": 3
   },
   "file_extension": ".py",
   "mimetype": "text/x-python",
   "name": "python",
   "nbconvert_exporter": "python",
   "pygments_lexer": "ipython3",
   "version": "3.6.3"
  }
 },
 "nbformat": 4,
 "nbformat_minor": 2
}
