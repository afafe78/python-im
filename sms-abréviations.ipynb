{
 "cells": [
  {
   "cell_type": "markdown",
   "metadata": {},
   "source": [
    "# SMS\n",
    "\n",
    "L'exercice ici est de tenter de normaliser une écriture non standard. Plus précisément nous travaillerons sur les abréviations dans le langage SMS.\n",
    "\n",
    "Nous travaillerons sur les données de [88milsms](https://www.ortolang.fr/market/corpora/comere?path=%2Fcmr-88milsms) du corpus [CoMeRe](https://www.ortolang.fr/market/corpora/comere).\n",
    "\n",
    "Le fichier `cmr-88milsms-tei-v1.xml` est la version TEI des données issues du corpus [88milsms](http://88milsms.huma-num.fr/), 88 000 sms authentiques en français collectés en 2001."
   ]
  },
  {
   "cell_type": "markdown",
   "metadata": {},
   "source": [
    "## Extraction des données\n",
    "\n",
    "Le fichier TEI contient beaucoup de méta-données, nous nous limiterons ici à ne récupérér que le contenu des SMS."
   ]
  },
  {
   "cell_type": "code",
   "execution_count": null,
   "metadata": {},
   "outputs": [],
   "source": [
    "from lxml import etree\n",
    "import re\n",
    "\n",
    "l_sms = list()\n",
    "\n",
    "tree = etree.parse('/home/clement/l-pro/rsrc/cmr-88milsms/cmr-88milsms-tei-v1.xml')\n",
    "root = tree.getroot()\n",
    "\n",
    "# la méthode findall renvoie une liste avec tous les éléments correspondant au chemin argument\n",
    "p = root.findall(\"./tei:text/tei:body//tei:post/tei:p\", namespaces={'tei':\"http://www.tei-c.org/ns/1.0\"})\n",
    "for elem in p:\n",
    "    p_text = elem.xpath(\".//text()\", namespaces={'tei':\"http://www.tei-c.org/ns/1.0\"})\n",
    "    text = \"\".join(p_text)\n",
    "    text = re.sub(r'\\n\\s+', ' ', text)\n",
    "    l_sms.append(text)"
   ]
  },
  {
   "cell_type": "code",
   "execution_count": null,
   "metadata": {},
   "outputs": [],
   "source": [
    "len(l_sms)"
   ]
  },
  {
   "cell_type": "markdown",
   "metadata": {},
   "source": [
    "## Traitement des abréviations\n",
    "\n",
    "À l'aide d'un dictionnaire d'abréviations nous allons "
   ]
  }
 ],
 "metadata": {
  "kernelspec": {
   "display_name": "Python 3",
   "language": "python",
   "name": "python3"
  },
  "language_info": {
   "codemirror_mode": {
    "name": "ipython",
    "version": 3
   },
   "file_extension": ".py",
   "mimetype": "text/x-python",
   "name": "python",
   "nbconvert_exporter": "python",
   "pygments_lexer": "ipython3",
   "version": "3.6.5"
  }
 },
 "nbformat": 4,
 "nbformat_minor": 2
}
