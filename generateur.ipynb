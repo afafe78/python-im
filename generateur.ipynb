{
 "cells": [
  {
   "cell_type": "markdown",
   "metadata": {},
   "source": [
    "# Les générateurs"
   ]
  },
  {
   "cell_type": "markdown",
   "metadata": {},
   "source": [
    "Les générateurs sont très simples à utiliser et très puissants. Ils vous permettront d'optimiser votre code à moindre frais. Alors pourquoi se priver ?"
   ]
  },
  {
   "cell_type": "markdown",
   "metadata": {},
   "source": [
    "Imaginons que je veuille extraire d'une liste de mots la liste des mots comportants le caractère 'a'. Je vais écrire une fonction."
   ]
  },
  {
   "cell_type": "code",
   "execution_count": 1,
   "metadata": {},
   "outputs": [],
   "source": [
    "def with_a(words):\n",
    "    \"\"\"\n",
    "    Reçoit une liste de mots et renvoie la liste des mots contenant le car. 'a'\n",
    "    \"\"\"\n",
    "    res = []\n",
    "    for word in words:\n",
    "        if 'a' in word:\n",
    "            res.append(word)\n",
    "    return res\n",
    "    "
   ]
  },
  {
   "cell_type": "code",
   "execution_count": 3,
   "metadata": {},
   "outputs": [
    {
     "name": "stdout",
     "output_type": "stream",
     "text": [
      "chat\n",
      "matin\n"
     ]
    }
   ],
   "source": [
    "mots = [\"le\", \"petit\", \"chat\", \"est\", \"mort\", \"ce\", \"matin\"]\n",
    "mots_a = with_a(mots)\n",
    "print(\"\\n\".join(mots_a))"
   ]
  },
  {
   "cell_type": "markdown",
   "metadata": {},
   "source": [
    "Jusque là rien de méchant. Comme il est question d'optimisation je vais mesurer le temps de traitement avec `timeit`.  \n",
    "ipython est plein de magie, `%time` hup hup hup barbatruc et voilà."
   ]
  },
  {
   "cell_type": "code",
   "execution_count": 4,
   "metadata": {},
   "outputs": [
    {
     "name": "stdout",
     "output_type": "stream",
     "text": [
      "CPU times: user 8 µs, sys: 1 µs, total: 9 µs\n",
      "Wall time: 12.9 µs\n",
      "CPU times: user 206 ms, sys: 11.7 ms, total: 217 ms\n",
      "Wall time: 217 ms\n"
     ]
    }
   ],
   "source": [
    "%time mots_a = with_a(mots)\n",
    "mots_big = mots * 1000000\n",
    "%time mots_a = with_a(mots_big)"
   ]
  },
  {
   "cell_type": "markdown",
   "metadata": {},
   "source": [
    "Comme on pouvait s'y attendre le temps d'exécution de la fonction augmente avec la taille de la liste initiale.  \n",
    "Voyons ce que ça donne avec un générateur. Construire un générateur c'est simple : vous remplacez `return` par `yield` dans votre fonction.  \n",
    "C'est tout ? C'est tout.  \n",
    "\n",
    "<small>Vous pouvez quand même en apprendre plus [ici](http://intermediatepythonista.com/python-generators) ou lire la [PEP 255](https://www.python.org/dev/peps/pep-0255/) si vous aimez ça.</small>"
   ]
  },
  {
   "cell_type": "code",
   "execution_count": 5,
   "metadata": {},
   "outputs": [],
   "source": [
    "def gen_with_a(words):\n",
    "    \"\"\"\n",
    "    Reçoit une liste de mots et renvoie les mots contenant le car. 'a' sous forme de générateur\n",
    "    \"\"\"\n",
    "    for word in words:\n",
    "        if 'a' in word:\n",
    "            yield(word)"
   ]
  },
  {
   "cell_type": "code",
   "execution_count": 6,
   "metadata": {},
   "outputs": [
    {
     "name": "stdout",
     "output_type": "stream",
     "text": [
      "CPU times: user 249 µs, sys: 3.72 ms, total: 3.97 ms\n",
      "Wall time: 3.98 ms\n",
      "CPU times: user 4 µs, sys: 1 µs, total: 5 µs\n",
      "Wall time: 6.2 µs\n"
     ]
    }
   ],
   "source": [
    "mots_big = mots * 100\n",
    "%time mots_a = with_a(mots_big)\n",
    "%time mots_a_gen = gen_with_a(mots_big)"
   ]
  },
  {
   "cell_type": "markdown",
   "metadata": {},
   "source": [
    "😲 !!!!!!!!!  \n",
    "Oui c'est de la magie. Enfin c'est plutôt de la triche, regardez :"
   ]
  },
  {
   "cell_type": "code",
   "execution_count": 7,
   "metadata": {},
   "outputs": [
    {
     "name": "stdout",
     "output_type": "stream",
     "text": [
      "mots_a is a <class 'list'>\n",
      "mots_a_gen is a <class 'generator'>\n",
      "Taille de mots_a : 1680\n",
      "Taille de mots_a_gen : 128\n"
     ]
    }
   ],
   "source": [
    "print(f\"mots_a is a {type(mots_a)}\")\n",
    "print(f\"mots_a_gen is a {type(mots_a_gen)}\")\n",
    "import sys\n",
    "print(f\"Taille de mots_a : {sys.getsizeof(mots_a)}\")\n",
    "print(f\"Taille de mots_a_gen : {sys.getsizeof(mots_a_gen)}\")"
   ]
  },
  {
   "cell_type": "markdown",
   "metadata": {},
   "source": [
    "`mots_a_gen` n'est pas une liste, c'est un objet `generator`.  \n",
    "Il ne stocke rien ou presque en mémoire, on ne peut pas connaître sa taille (essayez `len(mots_a_gen)` pour voir.  \n",
    "Mais c'est un itérable, on peut le parcourir comme une liste. Par contre on ne peut pas les \"trancher\", on ne peut accéder à un élément d'index `i` comme pour une liste.  \n",
    "Encore une différence d'avec les listes : vous ne pouvez parcourir un générateur qu'une seule fois."
   ]
  },
  {
   "cell_type": "code",
   "execution_count": 8,
   "metadata": {},
   "outputs": [
    {
     "name": "stdout",
     "output_type": "stream",
     "text": [
      "CPU times: user 219 µs, sys: 0 ns, total: 219 µs\n",
      "Wall time: 235 µs\n"
     ]
    }
   ],
   "source": [
    "%time mots_a_gen = list(gen_with_a(mots_big))"
   ]
  },
  {
   "cell_type": "markdown",
   "metadata": {
    "collapsed": true
   },
   "source": [
    "Mais même sans tricher les générateurs demeurent très efficaces. Vous aurez compris qu'il vous est désormais chaudement recommandé de les utiliser. "
   ]
  },
  {
   "cell_type": "markdown",
   "metadata": {},
   "source": [
    "Vous pouvez aussi utiliser des générateurs en compréhension, à la manière des listes en compréhension : "
   ]
  },
  {
   "cell_type": "code",
   "execution_count": 24,
   "metadata": {},
   "outputs": [
    {
     "data": {
      "text/plain": [
       "['chat', 'matin']"
      ]
     },
     "execution_count": 24,
     "metadata": {},
     "output_type": "execute_result"
    }
   ],
   "source": [
    "[mot for mot in mots if 'a' in mot]"
   ]
  },
  {
   "cell_type": "code",
   "execution_count": 25,
   "metadata": {},
   "outputs": [
    {
     "data": {
      "text/plain": [
       "<generator object <genexpr> at 0x7fd2a44637d8>"
      ]
     },
     "execution_count": 25,
     "metadata": {},
     "output_type": "execute_result"
    }
   ],
   "source": [
    "(mot for mot in mots if 'a' in mot)"
   ]
  },
  {
   "cell_type": "code",
   "execution_count": null,
   "metadata": {
    "collapsed": true
   },
   "outputs": [],
   "source": []
  }
 ],
 "metadata": {
  "kernelspec": {
   "display_name": "Python 3",
   "language": "python",
   "name": "python3"
  },
  "language_info": {
   "codemirror_mode": {
    "name": "ipython",
    "version": 3
   },
   "file_extension": ".py",
   "mimetype": "text/x-python",
   "name": "python",
   "nbconvert_exporter": "python",
   "pygments_lexer": "ipython3",
   "version": "3.7.4"
  }
 },
 "nbformat": 4,
 "nbformat_minor": 1
}
