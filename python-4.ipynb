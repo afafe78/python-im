{
 "cells": [
  {
   "cell_type": "markdown",
   "metadata": {
    "slideshow": {
     "slide_type": "slide"
    }
   },
   "source": [
    "# Langages de script - Python\n",
    "\n",
    "## Cours 4 - Fonctions et module re\n",
    "\n",
    "### M2 Ingénierie Multilingue - INaLCO\n",
    "\n",
    "Clément Plancq - clement.plancq@ens.fr"
   ]
  },
  {
   "cell_type": "markdown",
   "metadata": {
    "slideshow": {
     "slide_type": "slide"
    }
   },
   "source": [
    "# Fonctions\n",
    "\n",
    "- Elles ont un nom, prennent des arguments, font un traitement et renvoient une valeur\n",
    "\n",
    "- Il est très fortement recommandé de les documenter. En Python on utilise les *docstrings*"
   ]
  },
  {
   "cell_type": "code",
   "execution_count": null,
   "metadata": {
    "slideshow": {
     "slide_type": "fragment"
    }
   },
   "outputs": [],
   "source": [
    "def ma_fonction(arg1, arg2):\n",
    "    \"\"\"\n",
    "    La documentation de ma fonction\n",
    "    Sur plusieurs lignes si je veux\n",
    "    \"\"\"\n",
    "    return"
   ]
  },
  {
   "cell_type": "markdown",
   "metadata": {
    "slideshow": {
     "slide_type": "fragment"
    }
   },
   "source": [
    "- Les docstrings sont accessibles dans la console avec help(ma_fonction) ou dans le script via l'attribut `__doc__`: `ma_fonction.__doc__`\n",
    "\n",
    "- Les générateurs de documentation comme [sphinx](http://www.sphinx-doc.org) utilisent les docstrings"
   ]
  },
  {
   "cell_type": "markdown",
   "metadata": {
    "slideshow": {
     "slide_type": "subslide"
    }
   },
   "source": [
    "## Fonctions : arguments\n",
    "\n",
    "### Arguments positionnels"
   ]
  },
  {
   "cell_type": "code",
   "execution_count": null,
   "metadata": {
    "slideshow": {
     "slide_type": "-"
    }
   },
   "outputs": [],
   "source": [
    "def retranche(arg1, arg2):\n",
    "    \"\"\"Une soustraction quoi\"\"\"\n",
    "    return arg1 - arg2"
   ]
  },
  {
   "cell_type": "code",
   "execution_count": null,
   "metadata": {
    "slideshow": {
     "slide_type": "fragment"
    }
   },
   "outputs": [],
   "source": [
    "retranche(4, 2)"
   ]
  },
  {
   "cell_type": "code",
   "execution_count": null,
   "metadata": {
    "slideshow": {
     "slide_type": "-"
    }
   },
   "outputs": [],
   "source": [
    "retranche(2, 4)"
   ]
  },
  {
   "cell_type": "markdown",
   "metadata": {
    "slideshow": {
     "slide_type": "subslide"
    }
   },
   "source": [
    "### Arguments avec valeurs par défaut\n",
    "\n",
    "Ici `arg1` est obligatoire, `arg2` est facultatif"
   ]
  },
  {
   "cell_type": "code",
   "execution_count": null,
   "metadata": {
    "slideshow": {
     "slide_type": "-"
    }
   },
   "outputs": [],
   "source": [
    "def retranche(arg1, arg2=1):\n",
    "    \"\"\"Une soustraction quoi\"\"\"\n",
    "    return arg1 - arg2"
   ]
  },
  {
   "cell_type": "code",
   "execution_count": null,
   "metadata": {
    "slideshow": {
     "slide_type": "fragment"
    }
   },
   "outputs": [],
   "source": [
    "retranche(4, 1)"
   ]
  },
  {
   "cell_type": "code",
   "execution_count": null,
   "metadata": {
    "slideshow": {
     "slide_type": "-"
    }
   },
   "outputs": [],
   "source": [
    "retranche(4)"
   ]
  },
  {
   "cell_type": "markdown",
   "metadata": {
    "slideshow": {
     "slide_type": "slide"
    }
   },
   "source": [
    "### Arguments nommés (keywords arguments aka kwargs)\n",
    "\n",
    "- Les fonctions peuvent aussi être appelées avec des arguments nommés\n",
    "- Dans ce cas l'ordre n'a pas d'importance\n",
    "- On peut mélanger les deux, mais alors les keywords doivent être en dernier"
   ]
  },
  {
   "cell_type": "code",
   "execution_count": null,
   "metadata": {
    "slideshow": {
     "slide_type": "fragment"
    }
   },
   "outputs": [],
   "source": [
    "def retranche(arg1, arg2=1):\n",
    "    \"\"\"Une soustraction quoi\"\"\"\n",
    "    return arg1 - arg2"
   ]
  },
  {
   "cell_type": "code",
   "execution_count": null,
   "metadata": {
    "slideshow": {
     "slide_type": "fragment"
    }
   },
   "outputs": [],
   "source": [
    "retranche(arg1=4, arg2=2)"
   ]
  },
  {
   "cell_type": "code",
   "execution_count": null,
   "metadata": {
    "slideshow": {
     "slide_type": "-"
    }
   },
   "outputs": [],
   "source": [
    "retranche(arg2=2, arg1=4)"
   ]
  },
  {
   "cell_type": "code",
   "execution_count": null,
   "metadata": {
    "slideshow": {
     "slide_type": "-"
    }
   },
   "outputs": [],
   "source": [
    "retranche(4, arg2=3)"
   ]
  },
  {
   "cell_type": "markdown",
   "metadata": {
    "slideshow": {
     "slide_type": "slide"
    }
   },
   "source": [
    "### Nombre d'arguments arbitraires"
   ]
  },
  {
   "cell_type": "code",
   "execution_count": null,
   "metadata": {
    "slideshow": {
     "slide_type": "-"
    }
   },
   "outputs": [],
   "source": [
    "def print_artist(name, *records):\n",
    "    print(name)\n",
    "    for item in records:\n",
    "        print(item)\n",
    "print_artist(\"Neil Young\", \"Ragged Glory\", \"Harvest Moon\")"
   ]
  },
  {
   "cell_type": "markdown",
   "metadata": {},
   "source": [
    "(On parle alors de fonctions *variadiques*)"
   ]
  },
  {
   "cell_type": "markdown",
   "metadata": {
    "slideshow": {
     "slide_type": "subslide"
    }
   },
   "source": [
    "On peut aussi utiliser des *kwargs* (*KeyWord ARGuments*)"
   ]
  },
  {
   "cell_type": "code",
   "execution_count": null,
   "metadata": {
    "slideshow": {
     "slide_type": "-"
    }
   },
   "outputs": [],
   "source": [
    "def print_artist(name, *records, **concerts):\n",
    "    print(name)\n",
    "    for item in records:\n",
    "        print(item)\n",
    "    for place, date in concerts.items():\n",
    "        print(place, date)\n",
    "print_artist(\"Neil Young\", \"Ragged Glory\", \"Harvest Moon\", Paris='12/10/2016', Albuquerque=\"14/11/2016\")"
   ]
  },
  {
   "cell_type": "markdown",
   "metadata": {
    "slideshow": {
     "slide_type": "slide"
    }
   },
   "source": [
    "## Fonctions : portée des variables\n",
    "\n",
    "Les variables déclarées dans le corps d'une fonction ont une portée locale à la fonction"
   ]
  },
  {
   "cell_type": "code",
   "execution_count": null,
   "metadata": {},
   "outputs": [],
   "source": [
    "def foo():\n",
    "    a = 2713\n",
    "    print(a)\n",
    "\n",
    "foo()\n",
    "print(a)"
   ]
  },
  {
   "cell_type": "markdown",
   "metadata": {
    "slideshow": {
     "slide_type": "subslide"
    }
   },
   "source": [
    "Les variables globales (c-à-d dans le *top level*) sont accessibles en lecture dans une fonction"
   ]
  },
  {
   "cell_type": "code",
   "execution_count": null,
   "metadata": {
    "slideshow": {
     "slide_type": "-"
    }
   },
   "outputs": [],
   "source": [
    "a = 2713\n",
    "\n",
    "def foo():\n",
    "    print(a)\n",
    "\n",
    "foo()\n",
    "a = 2\n",
    "foo()"
   ]
  },
  {
   "cell_type": "markdown",
   "metadata": {
    "slideshow": {
     "slide_type": "subslide"
    }
   },
   "source": [
    "En revanche, les redéfinitions dans une fonction ne touchent pas la variable globale"
   ]
  },
  {
   "cell_type": "code",
   "execution_count": null,
   "metadata": {
    "slideshow": {
     "slide_type": "-"
    }
   },
   "outputs": [],
   "source": [
    "a = 2713\n",
    "\n",
    "def foo():\n",
    "    a = 2\n",
    "    print(f'Dans foo: a={a}')\n",
    "\n",
    "print(f'Dans toplevel: a={a}')\n",
    "foo()\n",
    "print(f'Dans toplevel: a={a}')"
   ]
  },
  {
   "cell_type": "markdown",
   "metadata": {},
   "source": [
    "**En détail :** Dans la fonction `foo`, `a=2` créé une variable locale qui masque (*shadow*) la variable globale `a`, mais cet effet est limité au bloc de la fonction : c'est pourquoi on retrouve la valeur originale de `a` quand on en sort."
   ]
  },
  {
   "cell_type": "markdown",
   "metadata": {
    "slideshow": {
     "slide_type": "subslide"
    }
   },
   "source": [
    "Pour qu'une affectation ait une portée globale, il faut le demander explicitement avec le mot-clé `global`"
   ]
  },
  {
   "cell_type": "code",
   "execution_count": null,
   "metadata": {},
   "outputs": [],
   "source": [
    "a = 2713\n",
    "\n",
    "def foo():\n",
    "    global a\n",
    "    a = 2\n",
    "    print(f'Dans foo: a={a}')\n",
    "\n",
    "print(f'Dans toplevel: a={a}')\n",
    "foo()\n",
    "print(f'Dans toplevel: a={a}')"
   ]
  },
  {
   "cell_type": "markdown",
   "metadata": {
    "slideshow": {
     "slide_type": "subslide"
    }
   },
   "source": [
    "Le modèle de portée des variables de Python est complexe, ce qui précède est une simplification. Pour aller plus loin\n",
    "  \n",
    "  - [La présentation de Ned Batchelder](https://nedbatchelder.com/text/names1.html) à PyCon 2015 (lecture vivement recommandée)\n",
    "  - [La doc](https://docs.python.org/3/reference/executionmodel.html#naming-and-binding) comme toujours"
   ]
  },
  {
   "cell_type": "markdown",
   "metadata": {
    "slideshow": {
     "slide_type": "slide"
    }
   },
   "source": [
    "## Fonctions : arguments mutables\n",
    "Changer la valeur d'une variable passée en argument n'a pas d'effet sur cette variable"
   ]
  },
  {
   "cell_type": "code",
   "execution_count": null,
   "metadata": {
    "slideshow": {
     "slide_type": "-"
    }
   },
   "outputs": [],
   "source": [
    "def ma_fonction(val):\n",
    "    print(f'Dans ma_fonction: {val}')\n",
    "    val = 3\n",
    "    print(f'Dans ma_fonction: {val}')\n",
    "\n",
    "a = 2\n",
    "print(f'Dans top level: {a}')\n",
    "ma_fonction(a)\n",
    "print(f'Dans top level: {a}')"
   ]
  },
  {
   "cell_type": "markdown",
   "metadata": {},
   "source": [
    "On dit que les arguments sont « passés par *valeur* », par oppostion à « passés par *référence* »"
   ]
  },
  {
   "cell_type": "markdown",
   "metadata": {
    "slideshow": {
     "slide_type": "subslide"
    }
   },
   "source": [
    "En revanche, les arguments mutables (`list`, `dict`, `set`, …) peuvent être modifiés par la fonction"
   ]
  },
  {
   "cell_type": "code",
   "execution_count": null,
   "metadata": {
    "slideshow": {
     "slide_type": "-"
    }
   },
   "outputs": [],
   "source": [
    "def ma_fonction(val, lst):\n",
    "    print(f'Dans ma_fonction: {lst}')\n",
    "    lst.append(val)\n",
    "    print(f'Dans ma_fonction: {lst}')\n",
    "\n",
    "l = [1, 2, 3]\n",
    "print(f'Dans toplevel: {l}')\n",
    "ma_fonction(4, l)\n",
    "print(f'Dans toplevel: {l}')"
   ]
  },
  {
   "cell_type": "markdown",
   "metadata": {
    "slideshow": {
     "slide_type": "subslide"
    }
   },
   "source": [
    "Si ce n'est pas le comportement voulu, il faut créer explicitement une nouvelle liste"
   ]
  },
  {
   "cell_type": "code",
   "execution_count": null,
   "metadata": {
    "slideshow": {
     "slide_type": "-"
    }
   },
   "outputs": [],
   "source": [
    "def ma_fonction(val, lst):\n",
    "    print(f'Dans ma_fonction: {lst}')\n",
    "    lst_copy = lst[:]\n",
    "    lst_copy.append(val)\n",
    "    lst = lst_copy\n",
    "    print(f'Dans ma_fonction:{lst}')\n",
    "\n",
    "l = [1, 2, 3]\n",
    "print(f'Dans toplevel: {l}')\n",
    "ma_fonction(4, l)\n",
    "print(f'Dans toplevel: {l}')"
   ]
  },
  {
   "cell_type": "markdown",
   "metadata": {
    "slideshow": {
     "slide_type": "subslide"
    }
   },
   "source": [
    "Ou en plus compact"
   ]
  },
  {
   "cell_type": "code",
   "execution_count": null,
   "metadata": {
    "slideshow": {
     "slide_type": "-"
    }
   },
   "outputs": [],
   "source": [
    "def ma_fonction(val, lst):\n",
    "    print(f'Dans ma_fonction: {lst}')\n",
    "    lst = lst[:]\n",
    "    lst.append(val)\n",
    "    print(f'Dans ma_fonction:{lst}')\n",
    "\n",
    "l = [1, 2, 3]\n",
    "print(f'Dans toplevel: {l}')\n",
    "ma_fonction(4, l)\n",
    "print(f'Dans toplevel: {l}')"
   ]
  },
  {
   "cell_type": "markdown",
   "metadata": {
    "slideshow": {
     "slide_type": "subslide"
    }
   },
   "source": [
    "## Attention !\n",
    "Il est parfois difficile de savoir quels opérations font une copie des variables, ainsi"
   ]
  },
  {
   "cell_type": "code",
   "execution_count": null,
   "metadata": {},
   "outputs": [],
   "source": [
    "a = [1, 2, 3]\n",
    "b = a\n",
    "b = b + [4]\n",
    "print(b)\n",
    "print(a)"
   ]
  },
  {
   "cell_type": "markdown",
   "metadata": {},
   "source": [
    "mais"
   ]
  },
  {
   "cell_type": "code",
   "execution_count": null,
   "metadata": {},
   "outputs": [],
   "source": [
    "a = [1, 2, 3]\n",
    "b = a\n",
    "b += [4]\n",
    "print(b)\n",
    "print(a)"
   ]
  },
  {
   "cell_type": "markdown",
   "metadata": {
    "slideshow": {
     "slide_type": "slide"
    }
   },
   "source": [
    "# Module `re`"
   ]
  },
  {
   "cell_type": "code",
   "execution_count": null,
   "metadata": {
    "slideshow": {
     "slide_type": "-"
    }
   },
   "outputs": [],
   "source": [
    "import re"
   ]
  },
  {
   "cell_type": "markdown",
   "metadata": {
    "slideshow": {
     "slide_type": "-"
    }
   },
   "source": [
    "- `re` est un module particulièrement important, vous devez lire la [doc](https://docs.python.org/3/library/re.html), absolument\n",
    "\n",
    "- La doc officielle est parfois aride, ce [howto](https://docs.python.org/3.6/howto/regex.html) rédigé par A.M. Kuchling est plus digeste"
   ]
  },
  {
   "cell_type": "markdown",
   "metadata": {
    "slideshow": {
     "slide_type": "subslide"
    }
   },
   "source": [
    "a minima vous devez connaître les fonctions :\n",
    "\n",
    "- `findall` : trouve toutes les occurences du motif, retourne une liste de chaînes trouvées\n",
    "- `search` : trouve le motif, retourne un objet `Match`, `None` sinon\n",
    "- `match` : détermine si le motif est présent au début de la chaîne, retourne un objet `Match`, `None` sinon\n",
    "- `split` : découpe une chaîne selon un motif, retourne une liste de chaînes\n",
    "- `sub` : remplace les occurences d'un motif par une chaîne de remplacement\n",
    "- `compile` : compilation d'un motif (pattern), retourne un objet `Pattern`"
   ]
  },
  {
   "cell_type": "code",
   "execution_count": null,
   "metadata": {
    "slideshow": {
     "slide_type": "-"
    }
   },
   "outputs": [],
   "source": [
    "if re.search(r\"(\\w|\\s)+\", \"Un léopard me pourchasse\"):\n",
    "    print(\"Cours !\")"
   ]
  },
  {
   "cell_type": "code",
   "execution_count": null,
   "metadata": {
    "slideshow": {
     "slide_type": "-"
    }
   },
   "outputs": [],
   "source": [
    "re.sub(r'e|é', 'i', 'éléphanteau')"
   ]
  },
  {
   "cell_type": "markdown",
   "metadata": {
    "slideshow": {
     "slide_type": "fragment"
    }
   },
   "source": [
    "## Avec compilation du motif"
   ]
  },
  {
   "cell_type": "code",
   "execution_count": null,
   "metadata": {
    "slideshow": {
     "slide_type": "-"
    }
   },
   "outputs": [],
   "source": [
    "pat = re.compile(r\"(\\w|\\s)+\")\n",
    "if pat.search(\"Un léopard me pourchasse\"):\n",
    "    print(\"Cours !\")"
   ]
  },
  {
   "cell_type": "markdown",
   "metadata": {
    "slideshow": {
     "slide_type": "-"
    }
   },
   "source": [
    "**Note :** Python compile de toute façon les motifs en interne et garde en mémoire les derniers utilisés, en pratique il est donc rarement utile de les compiler explicitement"
   ]
  },
  {
   "cell_type": "markdown",
   "metadata": {
    "slideshow": {
     "slide_type": "slide"
    }
   },
   "source": [
    "## `\\w` et Python3\n",
    "\n",
    "`\\w` est la classe prédéfinie des caractères alphanumériques :\n",
    "\n",
    "- En Python 2 `\\w` correspond à `[A-Za-z0-9_]`, avec les locales il est possible d'y ajouter d'autres caractères\n",
    "\n",
    "- En Python 3 `\\w` correspond à tous les caractères qui ont la propriété Unicode Letter d'après le module `unicodedata` (sauf si le motif est compilé en binaire ou si l'option `re.ASCII` est activée)"
   ]
  },
  {
   "cell_type": "code",
   "execution_count": null,
   "metadata": {},
   "outputs": [],
   "source": [
    "if re.search(r\"\\w\", \"馬青區團長成中央代表\"):\n",
    "    print(\"Yeah !\")"
   ]
  },
  {
   "cell_type": "code",
   "execution_count": null,
   "metadata": {},
   "outputs": [],
   "source": [
    "if re.search(r\"\\w\", \"هيلاري كلينتون\"):\n",
    "    print(\"Yeah !\")"
   ]
  },
  {
   "cell_type": "markdown",
   "metadata": {
    "slideshow": {
     "slide_type": "slide"
    }
   },
   "source": [
    "## Objet `Match`\n",
    "`re.search` et `re.match` renvoient un objet de type `re.Match`"
   ]
  },
  {
   "cell_type": "code",
   "execution_count": null,
   "metadata": {},
   "outputs": [],
   "source": [
    "m = re.match(r'\\w', 'spam')\n",
    "type(m)"
   ]
  },
  {
   "cell_type": "markdown",
   "metadata": {},
   "source": [
    "Si le motif est trouvé, l'objet est évalué comme vrai (*truthy*) s'il est testé mais il contient plus d'informations :\n",
    "\n",
    "- `m.group()` la chaîne trouvée (matchée)\n",
    "- `m.start()` l'indice de la position initiale de la chaîne\n",
    "- `m.end()` l'indice de la position finale de la chaîne\n",
    "- `m.span()` le tuple indice début, fin de la chaîne"
   ]
  },
  {
   "cell_type": "code",
   "execution_count": null,
   "metadata": {
    "slideshow": {
     "slide_type": "fragment"
    }
   },
   "outputs": [],
   "source": [
    "m = re.search(r\"l[ae]s?\", \"Après la pluie, le beau temps\")\n",
    "m.group()"
   ]
  },
  {
   "cell_type": "markdown",
   "metadata": {
    "slideshow": {
     "slide_type": "subslide"
    }
   },
   "source": [
    "Si le motif comporte des groupes de capture :\n",
    "- `m.group(1)` renvoie la chaîne correspond au 1er groupe, etc.\n",
    "- `m.groups()` renvoie un tuple comportant autant d'éléments qu'il y a de groupes"
   ]
  },
  {
   "cell_type": "code",
   "execution_count": null,
   "metadata": {
    "slideshow": {
     "slide_type": "fragment"
    }
   },
   "outputs": [],
   "source": [
    "m = re.search(r\"(l[ae]s?)\\s(\\w+)\", \"Après la pluie, le beau temps\")\n",
    "m.groups()"
   ]
  },
  {
   "cell_type": "markdown",
   "metadata": {
    "slideshow": {
     "slide_type": "slide"
    }
   },
   "source": [
    "- Remplacer les articles *le* et *Le* par *un* dans la phrase : « Le soir est le moment de la journée où le jour touche à sa fin »\n",
    "\n",
    "- Trouver dans le [fichier d'export csv de lexique.org](noms-lexique.org.txt) les noms dont le lemme se termine par `\"ure\"` et les afficher sous la forme `ortho/phon/lemme`.\n",
    "\n",
    "- À l'aide du module [`requests`](http://python-requests.org) trouver les liens hypertextes présents dans la page `https://www.reddit.com/r/Python/` et les afficher sous la forme `ancre: url`.\n",
    "\n",
    "Il vous faudra probablement installer `requests`, ne tenez pas compte des instruction de sa doc officielle et installez soit via le gestionnaire de paquet de votre système, soit via\n",
    "```\n",
    "python3 -m pip install --user requests\n",
    "```"
   ]
  },
  {
   "cell_type": "markdown",
   "metadata": {
    "slideshow": {
     "slide_type": "slide"
    }
   },
   "source": [
    "# Exos\n",
    "\n",
    "1. Le suffixe `-able` (ou `-ible` ou `-uble`) est utilisé pour former des adjectifs à partir des verbes. Vous travaillerez avec les données de [lexique3.83](http://lexique.org)\n",
    "    1. Pour chaque verbe du premier groupe (utilisez le lemme) vous vérifierez s'il existe un adjectif en -able. Vous donnerez les décomptes en résultat (combien de verbes avec adjectif -able, combien sans)\n",
    "    2. Pour chaque adjectif en -able vous vérifierez s'il existe un dérivé négatif (in-X-able, touchable/intouchable par ex.). En plus de l'affichage des comptes vous donnerez le pourcentage d'adjectifs en -able pour lesquels le dérivé négatif est plus fréquent (utilisez la colonne '7_freqlemfilms2).\n",
    "\n",
    "2. Codin Game : [Racing duals](https://www.codingame.com/ide/puzzle/horse-racing-duals)"
   ]
  }
 ],
 "metadata": {
  "celltoolbar": "Slideshow",
  "kernelspec": {
   "display_name": "Python 3",
   "language": "python",
   "name": "python3"
  },
  "language_info": {
   "codemirror_mode": {
    "name": "ipython",
    "version": 3
   },
   "file_extension": ".py",
   "mimetype": "text/x-python",
   "name": "python",
   "nbconvert_exporter": "python",
   "pygments_lexer": "ipython3",
   "version": "3.7.4"
  },
  "livereveal": {
   "autolaunch": true,
   "scroll": true,
   "transition": "none"
  }
 },
 "nbformat": 4,
 "nbformat_minor": 2
}
